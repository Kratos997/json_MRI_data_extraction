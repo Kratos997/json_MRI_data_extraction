{
 "cells": [
  {
   "attachments": {},
   "cell_type": "markdown",
   "metadata": {},
   "source": [
    "# MRI header data extraction :\n",
    "\n",
    "### Description :\n",
    "- This code is used to extract the header data from the MRI images and save it in a csv file.\n",
    "- The sequences that are extracted are both functional and structural MRI sequences, MP2RAGE and EPI, respectively.\n",
    "- It can also be used to extract other types of MRI data (DTI, T2, etc.) (please refer to the 'Other' section below).\n",
    "- The header data for each sequence type are saved in a JSON (.json) file for each subject."
   ]
  },
  {
   "attachments": {},
   "cell_type": "markdown",
   "metadata": {},
   "source": [
    "### Importing libraries :"
   ]
  },
  {
   "cell_type": "code",
   "execution_count": 2,
   "metadata": {},
   "outputs": [],
   "source": [
    "import json\n",
    "import os\n",
    "import pandas as pd\n",
    "from tqdm import tqdm\n",
    "import warnings\n",
    "warnings.filterwarnings('ignore')"
   ]
  },
  {
   "attachments": {},
   "cell_type": "markdown",
   "metadata": {},
   "source": [
    "### Defining the path to the data :"
   ]
  },
  {
   "cell_type": "code",
   "execution_count": 3,
   "metadata": {},
   "outputs": [],
   "source": [
    "# Path to the JSON files :\n",
    "json_path = 'headers/'\n",
    "T1_json_path = json_path + 'T1/'\n",
    "rs_json_path = json_path + 'RS/'"
   ]
  },
  {
   "attachments": {},
   "cell_type": "markdown",
   "metadata": {},
   "source": [
    "### T1 header data :"
   ]
  },
  {
   "attachments": {},
   "cell_type": "markdown",
   "metadata": {},
   "source": [
    "##### Importing the data :"
   ]
  },
  {
   "cell_type": "code",
   "execution_count": null,
   "metadata": {},
   "outputs": [],
   "source": [
    "T1_json_files = [file for file in os.listdir(T1_json_path) if file.endswith('.json') and not file.startswith('.')]\n",
    "print(T1_json_files)"
   ]
  },
  {
   "attachments": {},
   "cell_type": "markdown",
   "metadata": {},
   "source": [
    "##### Defining the variables of interest :"
   ]
  },
  {
   "cell_type": "code",
   "execution_count": null,
   "metadata": {},
   "outputs": [],
   "source": [
    "voi_t1 = ['EchoTime', 'MagneticFieldStrength', 'RepetitionTime']"
   ]
  },
  {
   "attachments": {},
   "cell_type": "markdown",
   "metadata": {},
   "source": [
    "##### Extracting the variables of interest from the header :"
   ]
  },
  {
   "cell_type": "code",
   "execution_count": null,
   "metadata": {},
   "outputs": [],
   "source": [
    "# Create a dictionary to store the variables :\n",
    "t1_dict = {}\n",
    "\n",
    "# Create a dataframe to store the dictionary :\n",
    "t1_df = pd.DataFrame()\n",
    "\n",
    "# Loop through the JSON files :\n",
    "for file in tqdm(T1_json_files):\n",
    "\n",
    "    # Read the JSON file :\n",
    "    with open(T1_json_path + file) as f:\n",
    "        data = json.load(f)\n",
    "    \n",
    "    # Extract the base name of the file :\n",
    "    subject_id = file.split('_')[0]\n",
    "\n",
    "    for var in voi_t1:\n",
    "        t1_dict[var] = data[var]\n",
    "\n",
    "    # append the dictionary to the dataframe :\n",
    "    t1_df = t1_df.append(pd.DataFrame(t1_dict, index=[subject_id]))\n",
    "\n",
    "#print(t1_df)\n",
    "\n",
    "   "
   ]
  },
  {
   "attachments": {},
   "cell_type": "markdown",
   "metadata": {},
   "source": [
    "##### Extracting unique values for each variable :"
   ]
  },
  {
   "cell_type": "code",
   "execution_count": null,
   "metadata": {},
   "outputs": [],
   "source": [
    "# For each column of the dataframe get the unique values :\n",
    "\n",
    "unique_t1_df = pd.DataFrame()\n",
    "\n",
    "for col in t1_df.columns:\n",
    "    unique_t1_df[col] = t1_df[col].unique()\n",
    "\n",
    "unique_t1_df = unique_t1_df.T\n",
    "unique_t1_df.columns = ['T1w MRI']\n",
    "\n",
    "print(unique_t1_df)"
   ]
  },
  {
   "attachments": {},
   "cell_type": "markdown",
   "metadata": {},
   "source": [
    "##### Saving the sequence data in a csv file :"
   ]
  },
  {
   "cell_type": "code",
   "execution_count": null,
   "metadata": {},
   "outputs": [],
   "source": [
    "# Saving the subject rs-fMRI header data to a CSV file :\n",
    "t1_df.to_csv('T1w_MRI_subject_metadata.csv')\n",
    "\n",
    "# Saving the unique values of rs-fMRI header data to a CSV file :\n",
    "unique_t1_df.to_csv('T1w_MRI_metadata.csv')"
   ]
  },
  {
   "attachments": {},
   "cell_type": "markdown",
   "metadata": {},
   "source": [
    "### Resting State (RS) header data :"
   ]
  },
  {
   "attachments": {},
   "cell_type": "markdown",
   "metadata": {},
   "source": [
    "##### Importing the data :"
   ]
  },
  {
   "cell_type": "code",
   "execution_count": 4,
   "metadata": {},
   "outputs": [
    {
     "name": "stdout",
     "output_type": "stream",
     "text": [
      "['COSCODE005_Rest_1.3mm_TR1.55_ipat3x3_20210628130630_20_c32.json', 'COSCODE016_Rest_1.3mm_TR1.55_ipat3x3_20210705125635_18_c32.json', 'COSCODE021_Rest_1.3mm_TR1.55_ipat3x3_20211108133628_16_c32.json', 'COSCODE030_Rest_1.3mm_TR1.55_ipat3x3_20211004100232_16_c32.json', 'COSCODE037_Rest_1.3mm_TR1.55_ipat3x3_20220124131550_16_c32.json', 'COSCODE038_Rest_1.3mm_TR1.55_ipat3x3_20210719095837_18_c32.json', 'COSCODE039_Rest_1.3mm_TR1.55_ipat3x3_20210712101210_19_c32.json', 'COSCODE040_Rest_1.3mm_TR1.55_ipat3x3_20210906125322_17_c32.json', 'COSCODE044_Rest_1.3mm_TR1.55_ipat3x3_20210628102257_18_c32.json', 'COSCODE045_Rest_1.3mm_TR1.55_ipat3x3_20211108101557_16_c32.json', 'COSCODE048_Rest_1.3mm_TR1.55_ipat3x3_20210823100138_18_c32.json', 'COSCODE052_Rest_1.3mm_TR1.55_ipat3x3_20210621100404_18_c32.json', 'COSCODE065_Rest_1.3mm_TR1.55_ipat3x3_20211011110416_16_c32.json', 'COSCODE077_Rest_1.3mm_TR1.55_ipat3x3_20210823132235_17_c32.json', 'COSCODE080_Rest_1.3mm_TR1.55_ipat3x3_20210705101804_21_c32.json', 'COSCODE110_Rest_1.3mm_TR1.55_ipat3x3_20210719130452_17_c32.json', 'COSCODE118_Rest_1.3mm_TR1.55_ipat3x3_20210906095731_16_c32.json', 'COSCODE120_Rest_1.3mm_TR1.55_ipat3x3_20211115101312_16_c32.json', 'COSCODE121_Rest_1.3mm_TR1.55_ipat3x3_20211101102222_16_c32.json', 'COSCODE133_Rest_1.3mm_TR1.55_ipat3x3_20211129132707_16_c32.json', 'COSCODE136_Rest_1.3mm_TR1.55_ipat3x3_20211115130856_17_c32.json', 'COSCODE137_Rest_1.3mm_TR1.55_ipat3x3_20220117090259_16_c32.json', 'COSCODE138_Rest_1.3mm_TR1.55_ipat3x3_20211101131642_17_c32.json', 'COSCODE149_Rest_1.3mm_TR1.55_ipat3x3_20211122125814_16_c32.json', 'COSCODE152_Rest_1.3mm_TR1.55_ipat3x3_20211129101853_16_c32.json', 'COSCODE158_Rest_1.3mm_TR1.55_ipat3x3_20220131100514_16_c32.json', 'COSCODE058_Rest_1.3mm_TR1.55_ipat3x3_20220404133038_16_c32.json', 'COSCODE177_Rest_1.3mm_TR1.55_ipat3x3_20220307131000_17_c32.json', 'COSCODE109_Rest_1.3mm_TR1.55_ipat3x3_20210927132057_17_c32.json', 'COSCODE171_Rest_1.3mm_TR1.55_ipat3x3_20220207114638_4_c32.json', 'COSCODE176_Rest_1.3mm_TR1.55_ipat3x3_20220207131355_16_c32.json', 'COSCODE123_Rest_1.3mm_TR1.55_ipat3x3_20220321141236_6_c32.json', 'COSCODE148_Rest_1.3mm_TR1.55_ipat3x3_20220502133200_17_c32.json', 'COSCODE174_Rest_1.3mm_TR1.55_ipat3x3_20220404150342_16_c32.json', 'COSCODE182_Rest_1.3mm_TR1.55_ipat3x3_20220425131956_16_c32.json', 'COSCODE207_Rest_1.3mm_TR1.55_ipat3x3_20220620150701_16_c32.json', 'COSCODE218_Rest_1.3mm_TR1.55_ipat3x3_20220509130257_16_c32.json', 'COSCODE232_Rest_1.3mm_TR1.55_ipat3x3_20220523144410_16_c32.json']\n"
     ]
    }
   ],
   "source": [
    "RS_json_files = [file for file in os.listdir(rs_json_path) if file.endswith('.json') and not file.startswith('.')]\n",
    "print(RS_json_files)"
   ]
  },
  {
   "attachments": {},
   "cell_type": "markdown",
   "metadata": {},
   "source": [
    "##### Defining the variables of interest :"
   ]
  },
  {
   "cell_type": "code",
   "execution_count": 5,
   "metadata": {},
   "outputs": [],
   "source": [
    "voi_rs = ['EchoTime', 'MagneticFieldStrength', 'RepetitionTime']"
   ]
  },
  {
   "attachments": {},
   "cell_type": "markdown",
   "metadata": {},
   "source": [
    "##### Extracting the variables of interest from the header :"
   ]
  },
  {
   "cell_type": "code",
   "execution_count": 6,
   "metadata": {},
   "outputs": [
    {
     "name": "stderr",
     "output_type": "stream",
     "text": [
      "100%|██████████| 38/38 [00:00<00:00, 904.91it/s]\n"
     ]
    }
   ],
   "source": [
    "# Create a dictionary to store the variables :\n",
    "rs_dict = {}\n",
    "\n",
    "# Create a dataframe to store the dictionary :\n",
    "rs_df = pd.DataFrame()\n",
    "\n",
    "# Loop through the JSON files :\n",
    "for file in tqdm(RS_json_files):\n",
    "\n",
    "    # Read the JSON file :\n",
    "    with open(rs_json_path + file) as f:\n",
    "        data = json.load(f)\n",
    "    \n",
    "    # Extract the base name of the file :\n",
    "    subject_id = file.split('_')[0]\n",
    "\n",
    "    for var in voi_rs:\n",
    "        rs_dict[var] = data[var]\n",
    "\n",
    "    # append the dictionary to the dataframe :\n",
    "    rs_df = rs_df.append(pd.DataFrame(rs_dict, index=[subject_id]))\n",
    "\n",
    "#print(rs_df)\n",
    "\n",
    "   "
   ]
  },
  {
   "attachments": {},
   "cell_type": "markdown",
   "metadata": {},
   "source": [
    "##### Extracting unique values for each variable :"
   ]
  },
  {
   "cell_type": "code",
   "execution_count": 7,
   "metadata": {},
   "outputs": [
    {
     "name": "stdout",
     "output_type": "stream",
     "text": [
      "                       rs-fMRI\n",
      "EchoTime                 0.026\n",
      "MagneticFieldStrength    6.980\n",
      "RepetitionTime           1.550\n"
     ]
    }
   ],
   "source": [
    "# For each column of the dataframe get the unique values :\n",
    "\n",
    "unique_rs_df = pd.DataFrame()\n",
    "\n",
    "for col in rs_df.columns:\n",
    "    unique_rs_df[col] = rs_df[col].unique()\n",
    "\n",
    "unique_rs_df = unique_rs_df.T\n",
    "unique_rs_df.columns = ['rs-fMRI']\n",
    "\n",
    "print(unique_rs_df)\n",
    "    "
   ]
  },
  {
   "attachments": {},
   "cell_type": "markdown",
   "metadata": {},
   "source": [
    "##### Saving the sequence data in a csv file :"
   ]
  },
  {
   "cell_type": "code",
   "execution_count": null,
   "metadata": {},
   "outputs": [],
   "source": [
    "# Saving the subject rs-fMRI header data to a CSV file :\n",
    "rs_df.to_csv('rs-fMRI_subject_metadata.csv')\n",
    "\n",
    "# Saving the unique values of rs-fMRI header data to a CSV file :\n",
    "unique_rs_df.to_csv('rs-fMRI_metadata.csv')"
   ]
  }
 ],
 "metadata": {
  "kernelspec": {
   "display_name": "base",
   "language": "python",
   "name": "python3"
  },
  "language_info": {
   "codemirror_mode": {
    "name": "ipython",
    "version": 3
   },
   "file_extension": ".py",
   "mimetype": "text/x-python",
   "name": "python",
   "nbconvert_exporter": "python",
   "pygments_lexer": "ipython3",
   "version": "3.10.6"
  },
  "orig_nbformat": 4
 },
 "nbformat": 4,
 "nbformat_minor": 2
}
